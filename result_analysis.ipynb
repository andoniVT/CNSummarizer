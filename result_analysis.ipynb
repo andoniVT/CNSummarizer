{
  "nbformat": 4,
  "nbformat_minor": 0,
  "metadata": {
    "colab": {
      "name": "result analysis",
      "provenance": [],
      "mount_file_id": "1s-qFSxzT5Oa7pN2ep0jKMaV_on_Scch7",
      "authorship_tag": "ABX9TyMA1s9jwhDAlnIUAxf5Kzf8",
      "include_colab_link": true
    },
    "kernelspec": {
      "name": "python3",
      "display_name": "Python 3"
    },
    "language_info": {
      "name": "python"
    }
  },
  "cells": [
    {
      "cell_type": "markdown",
      "metadata": {
        "id": "view-in-github",
        "colab_type": "text"
      },
      "source": [
        "<a href=\"https://colab.research.google.com/github/andoniVT/CNSummarizer/blob/master/result_analysis.ipynb\" target=\"_parent\"><img src=\"https://colab.research.google.com/assets/colab-badge.svg\" alt=\"Open In Colab\"/></a>"
      ]
    },
    {
      "cell_type": "markdown",
      "source": [
        "**Consideracoes iniciais**"
      ],
      "metadata": {
        "id": "yHzA0biIf1CE"
      }
    },
    {
      "cell_type": "markdown",
      "source": [
        "O  primeiro dataframe  contem as principais informações de todos os artigos que foram baixados do Web of Science para o artigo “Using network science and text analytics to produce surveys in a scientific topic”. Eu usei a rede de citacao gerada e testei diferentes metodos de  deteccao de comunidades. Eu usei o metodo word index (que da valor de importancia a cada palavra de acordo a frequencia fora e dentro de uma comunidade).  O metodo permitiu ordenar todas  as palavras do abstract de acordo ao seu word index. \n"
      ],
      "metadata": {
        "id": "X4YTJqZef9Jg"
      }
    },
    {
      "cell_type": "markdown",
      "source": [
        "Para o seguinte dataframe: Eu pesquisei no arXiv o conteudo completo dos papers do dataframe anterior. Eu encontrei 1982 artigos com o conteudo completo. Eu fiz o pre-processamento do conteudo completo, e depois usei varios metodos de extracao de keywords para encontrar os keywords de cada paper. Usei o metodo de votacao para encontrar os keywords de referencia de cada artigo. Usei os seguintes metodos de extracao de keywords: i) entropia, ii) intermitency, iii) tf-idf , iv) text rank, v)  yake, vi) baseado em BERT, vii) baseado na frequncia da palavra. \n"
      ],
      "metadata": {
        "id": "dEEzI8oqgYTN"
      }
    },
    {
      "cell_type": "code",
      "execution_count": 3,
      "metadata": {
        "colab": {
          "base_uri": "https://localhost:8080/"
        },
        "id": "lju4SqhoDqLB",
        "outputId": "20d10f20-6803-4ad2-ed89-7806a056e441"
      },
      "outputs": [
        {
          "output_type": "stream",
          "name": "stdout",
          "text": [
            "<class 'pandas.core.frame.DataFrame'>\n",
            "RangeIndex: 10942 entries, 0 to 10941\n",
            "Data columns (total 15 columns):\n",
            " #   Column                Non-Null Count  Dtype  \n",
            "---  ------                --------------  -----  \n",
            " 0   wos_id                10942 non-null  object \n",
            " 1   title                 10942 non-null  object \n",
            " 2   abstract              10942 non-null  object \n",
            " 3   year                  10942 non-null  float64\n",
            " 4   comm_multilevel       10942 non-null  int64  \n",
            " 5   comm_labelProp        10942 non-null  int64  \n",
            " 6   comm_leiden           10942 non-null  int64  \n",
            " 7   comm_fastG            10942 non-null  int64  \n",
            " 8   comm_infomap          10942 non-null  int64  \n",
            " 9   pAbstract             10942 non-null  object \n",
            " 10  pAbstract_multilevel  10942 non-null  object \n",
            " 11  pAbstract_labelProp   10942 non-null  object \n",
            " 12  pAbstract_leiden      10942 non-null  object \n",
            " 13  pAbstract_fastG       10942 non-null  object \n",
            " 14  pAbstract_infomap     10942 non-null  object \n",
            "dtypes: float64(1), int64(5), object(9)\n",
            "memory usage: 1.3+ MB\n",
            "\n",
            "<class 'pandas.core.frame.DataFrame'>\n",
            "RangeIndex: 1982 entries, 0 to 1981\n",
            "Data columns (total 17 columns):\n",
            " #   Column                Non-Null Count  Dtype  \n",
            "---  ------                --------------  -----  \n",
            " 0   wos_id                1982 non-null   object \n",
            " 1   title                 1982 non-null   object \n",
            " 2   abstract              1982 non-null   object \n",
            " 3   year                  1982 non-null   float64\n",
            " 4   pAbstract             1982 non-null   object \n",
            " 5   pAbstract_multilevel  1982 non-null   object \n",
            " 6   pAbstract_labelProp   1982 non-null   object \n",
            " 7   pAbstract_leiden      1982 non-null   object \n",
            " 8   pAbstract_fastG       1982 non-null   object \n",
            " 9   pAbstract_infomap     1982 non-null   object \n",
            " 10  content               1982 non-null   object \n",
            " 11  refKeywords           1982 non-null   object \n",
            " 12  refKeywords100        1982 non-null   object \n",
            " 13  tfidfAbsKeys          1982 non-null   object \n",
            " 14  kmeansAbsKeys         1982 non-null   object \n",
            " 15  refKeywordsBert       1982 non-null   object \n",
            " 16  refKeywordsTfidf      1982 non-null   object \n",
            "dtypes: float64(1), object(16)\n",
            "memory usage: 263.4+ KB\n"
          ]
        }
      ],
      "source": [
        "import pandas as pd\n",
        "import numpy as np\n",
        "\n",
        "path_all = 'drive/My Drive/ShortKeywordExtraction/dataset/all_papers_data.csv' \n",
        "df_all = pd.read_csv(path_all)\n",
        "df_all.info()\n",
        "print()\n",
        "\n",
        "path = 'drive/My Drive/ShortKeywordExtraction/dataset/all_data_complete_content.csv'\n",
        "df = pd.read_csv(path)\n",
        "df.info()"
      ]
    },
    {
      "cell_type": "markdown",
      "source": [
        "**Accuracy analysis**"
      ],
      "metadata": {
        "id": "PIlUwp7XbUVa"
      }
    },
    {
      "cell_type": "markdown",
      "source": [
        "Comparei os keywords de referencia (extraidos da combinacao ou votacao dos metodos de keyword extraction para o texto completo)  com cada metodo proposto para extrair keywords de cada abstract. N é o numero de palavras que estao sendo considerados. Fiz testes tambem coniderando como keywords de reeferencia usando o metodo baseado em BERT e o metodo baseado em TF-IDF\n"
      ],
      "metadata": {
        "id": "2qXS3gSLgmWv"
      }
    },
    {
      "cell_type": "code",
      "source": [
        "#def accuracy(text, refKeys, N_abs=30, N_keys=30):\n",
        "def accuracy(text, refKeys, N):\n",
        "  text = text.split()[0:N]\n",
        "  refKeys = refKeys.split()[0:N]\n",
        "  acc = len(set(text) & set(refKeys))/N\n",
        "  return acc\n",
        "\n",
        "def mean_accuracy(textos, all_keywords, N):\n",
        "  values = []\n",
        "  for text, keywords in zip(textos, all_keywords):\n",
        "    acc = accuracy(text, keywords, N)\n",
        "    values.append(acc)\n",
        "  return round(np.mean(values), 4) \n",
        "\n",
        "referenceKeywords = list(df['refKeywords'])\n",
        "referenceKeywords100 = list(df['refKeywords100'])\n",
        "referenceKeywordsBert = list(df['refKeywordsBert'])\n",
        "referenceKeywordsTfidf = list(df['refKeywordsTfidf'])\n",
        "\n",
        "sizes_test = [10, 20, 30, 40, 50]\n",
        "columns = ['pAbstract_multilevel', 'pAbstract_labelProp', 'pAbstract_leiden', \n",
        "           'pAbstract_fastG', 'pAbstract_infomap', 'tfidfAbsKeys', 'kmeansAbsKeys']\n",
        "names = ['multilevel', 'labelProp', 'leiden', 'fastG', 'infomap', 'tfidf', 'kmeans'] \n",
        "\n",
        "\n",
        "result = {'method':names}\n",
        "result2 = {'method':names}\n",
        "result3 = {'method':names}\n",
        "\n",
        "for size in sizes_test:\n",
        "  values = []\n",
        "  values2 = []\n",
        "  values3 = []\n",
        "  for method in columns:  \n",
        "    abstracts = list(df[method])\n",
        "    acc = mean_accuracy(abstracts, referenceKeywords, size)\n",
        "    acc2 = mean_accuracy(abstracts, referenceKeywordsBert, size)\n",
        "    acc3 = mean_accuracy(abstracts, referenceKeywordsTfidf, size)\n",
        "    values.append(acc)\n",
        "    values2.append(acc2)\n",
        "    values3.append(acc3)\n",
        "  result['N='+str(size)] = values\n",
        "  result2['N='+str(size)] = values2\n",
        "  result3['N='+str(size)] = values3\n",
        "\n",
        "print('Results based on keyword votation')\n",
        "df_res = pd.DataFrame.from_dict(result)\n",
        "print(df_res)\n",
        "print()\n",
        "\n",
        "print('Results based on keyword BERT')\n",
        "df_res2 = pd.DataFrame.from_dict(result2)\n",
        "print(df_res2)\n",
        "print()\n",
        "\n",
        "print('Results based on keyword TfIdf')\n",
        "df_res3 = pd.DataFrame.from_dict(result3)\n",
        "print(df_res3)\n"
      ],
      "metadata": {
        "colab": {
          "base_uri": "https://localhost:8080/"
        },
        "id": "di9Sj-CTbT7C",
        "outputId": "6f480272-72e8-4b31-c6f8-6c4b2cb6b070"
      },
      "execution_count": 4,
      "outputs": [
        {
          "output_type": "stream",
          "name": "stdout",
          "text": [
            "Results based on keyword votation\n",
            "       method    N=10    N=20    N=30    N=40    N=50\n",
            "0  multilevel  0.1231  0.1925  0.2688  0.3283  0.3605\n",
            "1   labelProp  0.1108  0.1758  0.2485  0.3123  0.3503\n",
            "2      leiden  0.1325  0.2003  0.2716  0.3274  0.3611\n",
            "3       fastG  0.1300  0.1941  0.2702  0.3280  0.3604\n",
            "4     infomap  0.1115  0.1826  0.2633  0.3251  0.3594\n",
            "5       tfidf  0.1891  0.2280  0.2687  0.3070  0.3388\n",
            "6      kmeans  0.2761  0.3110  0.3531  0.3746  0.3826\n",
            "\n",
            "Results based on keyword BERT\n",
            "       method    N=10    N=20    N=30    N=40    N=50\n",
            "0  multilevel  0.0573  0.0924  0.1254  0.1501  0.1633\n",
            "1   labelProp  0.0710  0.0936  0.1221  0.1462  0.1602\n",
            "2      leiden  0.0757  0.1092  0.1325  0.1518  0.1635\n",
            "3       fastG  0.0739  0.0965  0.1257  0.1494  0.1624\n",
            "4     infomap  0.0596  0.0938  0.1261  0.1483  0.1606\n",
            "5       tfidf  0.0899  0.1043  0.1207  0.1394  0.1538\n",
            "6      kmeans  0.1804  0.1668  0.1688  0.1726  0.1731\n",
            "\n",
            "Results based on keyword TfIdf\n",
            "       method    N=10    N=20    N=30    N=40    N=50\n",
            "0  multilevel  0.0740  0.1066  0.1448  0.1793  0.2026\n",
            "1   labelProp  0.0787  0.1033  0.1363  0.1724  0.1981\n",
            "2      leiden  0.0819  0.1153  0.1463  0.1785  0.2022\n",
            "3       fastG  0.0713  0.1023  0.1419  0.1767  0.2022\n",
            "4     infomap  0.1458  0.1561  0.1726  0.1951  0.2108\n",
            "5       tfidf  0.3596  0.3223  0.2984  0.2755  0.2551\n",
            "6      kmeans  0.2129  0.2106  0.2198  0.2279  0.2306\n"
          ]
        }
      ]
    },
    {
      "cell_type": "markdown",
      "source": [
        "Tambem modelei cada abstract como redes de co-ocorrencia de palavras. Depois usei medidas de centralidade em redes para fazer o rankings das palavras dos abstracts. Usei as medidas de degree, pageRank, betweeness, eigenvector e closeness. \n"
      ],
      "metadata": {
        "id": "KHY-GAGagyOs"
      }
    },
    {
      "cell_type": "code",
      "source": [
        "path = 'drive/My Drive/ShortKeywordExtraction/dataset/all_papers_network_metrics.csv'\n",
        "df_metrics = pd.read_csv(path)\n",
        "papers_id = list(df['wos_id'])\n",
        "df_metrics = df_metrics[df_metrics['wod_id'].isin(papers_id)]\n",
        "df_metrics.info()\n",
        "print()\n",
        "\n",
        "sizes_test = [10, 20, 30, 40, 50]\n",
        "columns = ['pAbs_Dgr', 'pAbs_Pr', 'pAbs_Btw', 'pAbs_Eig', 'pAbs_Clos']\n",
        "names = ['degree', 'pageRank', 'betweenness', 'eigenVector', 'closeness'] \n",
        "\n",
        "result = {'metric':names}\n",
        "for size in sizes_test:\n",
        "  values = []\n",
        "  for method in columns:  \n",
        "    abstracts = list(df_metrics[method])\n",
        "    acc = mean_accuracy(abstracts, referenceKeywords, size)\n",
        "    values.append(acc)\n",
        "  result['N='+str(size)] = values\n",
        "\n",
        "df_res2 = pd.DataFrame.from_dict(result)\n",
        "print(df_res2)"
      ],
      "metadata": {
        "colab": {
          "base_uri": "https://localhost:8080/"
        },
        "id": "PlIf7TLVPXqI",
        "outputId": "8f7e10ff-c469-422d-8092-468908c9e096"
      },
      "execution_count": null,
      "outputs": [
        {
          "output_type": "stream",
          "name": "stdout",
          "text": [
            "<class 'pandas.core.frame.DataFrame'>\n",
            "Int64Index: 1982 entries, 1 to 10941\n",
            "Data columns (total 7 columns):\n",
            " #   Column     Non-Null Count  Dtype \n",
            "---  ------     --------------  ----- \n",
            " 0   wod_id     1982 non-null   object\n",
            " 1   pAbstract  1982 non-null   object\n",
            " 2   pAbs_Dgr   1982 non-null   object\n",
            " 3   pAbs_Pr    1982 non-null   object\n",
            " 4   pAbs_Btw   1982 non-null   object\n",
            " 5   pAbs_Eig   1982 non-null   object\n",
            " 6   pAbs_Clos  1982 non-null   object\n",
            "dtypes: object(7)\n",
            "memory usage: 123.9+ KB\n",
            "\n",
            "        metric    N=10    N=20    N=30    N=40    N=50\n",
            "0       degree  0.1777  0.1733  0.1816  0.1864  0.1888\n",
            "1     pageRank  0.1772  0.1693  0.1784  0.1859  0.1886\n",
            "2  betweenness  0.1599  0.1627  0.1765  0.1860  0.1887\n",
            "3  eigenVector  0.1450  0.1502  0.1694  0.1833  0.1887\n",
            "4    closeness  0.1502  0.1560  0.1731  0.1846  0.1892\n"
          ]
        }
      ]
    },
    {
      "cell_type": "markdown",
      "source": [
        "**Common words (Abstracts - Complete Content)**"
      ],
      "metadata": {
        "id": "f8q5qvcXS6NA"
      }
    },
    {
      "cell_type": "code",
      "source": [
        "import matplotlib.pyplot as plt\n",
        "df.info()\n",
        "abstracts = list(df['pAbstract'])#[0:20]\n",
        "content = list(df['content'])#[0:20]\n",
        "\n",
        "\n",
        "\n",
        "percentages = []\n",
        "for abst, cont in zip(abstracts, content):\n",
        "  abst = set(abst.split())\n",
        "  cont = set(cont.split())\n",
        "  inter = len(abst & cont) \n",
        "  per = round((inter*100)/len(abst), 2) \n",
        "  percentages.append(per)\n",
        "\n",
        "percentages = sorted(percentages, reverse=True)\n",
        "x = [i+1 for i in range(len(percentages))]\n",
        "plt.figure(figsize=(10,4))\n",
        "plt.grid()\n",
        "plt.xlabel('Papers')\n",
        "plt.ylabel('Percantage')\n",
        "plt.title('Common words between abstracts and complete content')\n",
        "plt.plot(x, percentages)\n",
        "#plt.scatter(x, percentages)\n",
        "\n"
      ],
      "metadata": {
        "colab": {
          "base_uri": "https://localhost:8080/",
          "height": 706
        },
        "id": "9XGl-2VUTE_R",
        "outputId": "4bb7bd0e-9832-45ec-9b4e-7f4f2c9265ae"
      },
      "execution_count": null,
      "outputs": [
        {
          "output_type": "stream",
          "name": "stdout",
          "text": [
            "<class 'pandas.core.frame.DataFrame'>\n",
            "RangeIndex: 1982 entries, 0 to 1981\n",
            "Data columns (total 15 columns):\n",
            " #   Column                Non-Null Count  Dtype  \n",
            "---  ------                --------------  -----  \n",
            " 0   wos_id                1982 non-null   object \n",
            " 1   title                 1982 non-null   object \n",
            " 2   abstract              1982 non-null   object \n",
            " 3   year                  1982 non-null   float64\n",
            " 4   pAbstract             1982 non-null   object \n",
            " 5   pAbstract_multilevel  1982 non-null   object \n",
            " 6   pAbstract_labelProp   1982 non-null   object \n",
            " 7   pAbstract_leiden      1982 non-null   object \n",
            " 8   pAbstract_fastG       1982 non-null   object \n",
            " 9   pAbstract_infomap     1982 non-null   object \n",
            " 10  content               1982 non-null   object \n",
            " 11  refKeywords           1982 non-null   object \n",
            " 12  refKeywords100        1982 non-null   object \n",
            " 13  tfidfAbsKeys          1982 non-null   object \n",
            " 14  kmeansAbsKeys         1982 non-null   object \n",
            "dtypes: float64(1), object(14)\n",
            "memory usage: 232.4+ KB\n"
          ]
        },
        {
          "output_type": "execute_result",
          "data": {
            "text/plain": [
              "[<matplotlib.lines.Line2D at 0x7fbbab8cead0>]"
            ]
          },
          "metadata": {},
          "execution_count": 4
        },
        {
          "output_type": "display_data",
          "data": {
            "text/plain": [
              "<Figure size 720x288 with 1 Axes>"
            ],
            "image/png": "[encoded data removed]"
          },
          "metadata": {
            "needs_background": "light"
          }
        }
      ]
    },
    {
      "cell_type": "code",
      "source": [
        "\n",
        "sizes = [x+5 for x in range(46)]\n",
        "container = [[] for _ in range(len(sizes))]\n",
        "\n",
        "for abstract, keywords in zip(abstracts, referenceKeywords):\n",
        "  abstract = set(abstract.split()) \n",
        "  keywords = keywords.split()\n",
        "  for index, group in enumerate(sizes):\n",
        "    inter = len(set(keywords[0:group])& abstract)\n",
        "    container[index].append(inter)\n",
        "    #print(group, '->', inter)\n",
        "  #print()\n",
        "\n",
        "\n",
        "plt.figure(figsize=(15,6)) #15,6\n",
        "mines = []\n",
        "medias = []\n",
        "maxes = []\n",
        "\n",
        "for  i in container:\n",
        "  mines.append(min(i))\n",
        "  medias.append(np.mean(i))\n",
        "  maxes.append(max(i))\n",
        "\n",
        "\n",
        "print(mines)\n",
        "print(medias)\n",
        "print(maxes)\n",
        "plt.grid()\n",
        "plt.title('Average common keywords between reference keywords (complete content) and abstracts')\n",
        "plt.xlabel('Top 5-50 keywords')\n",
        "plt.ylabel('Average found keywords')\n",
        "plt.scatter(sizes, mines, label='Min values')\n",
        "plt.scatter(sizes, medias, label='Average values')\n",
        "plt.scatter(sizes, maxes, label='Max values')\n",
        "plt.legend()\n"
      ],
      "metadata": {
        "colab": {
          "base_uri": "https://localhost:8080/",
          "height": 495
        },
        "id": "JOHwW5jH-bqI",
        "outputId": "e990490f-4f45-4cb0-a561-26e824d65b41"
      },
      "execution_count": null,
      "outputs": [
        {
          "output_type": "stream",
          "name": "stdout",
          "text": [
            "[0, 0, 0, 0, 0, 0, 0, 0, 0, 0, 0, 0, 0, 0, 0, 0, 0, 0, 0, 0, 0, 1, 1, 1, 1, 1, 1, 1, 1, 1, 1, 1, 1, 1, 1, 1, 1, 1, 1, 1, 1, 1, 1, 1, 1, 1]\n",
            "[3.028254288597376, 3.5923309788092834, 4.136226034308779, 4.6387487386478305, 5.1140262361251265, 5.55146316851665, 5.935418768920282, 6.3183652875882945, 6.677598385469223, 7.045913218970736, 7.429364278506559, 7.836024217961655, 8.26084762865792, 8.703834510595359, 9.163471241170535, 9.640766902119072, 10.093844601412714, 10.541372351160444, 10.960141271442987, 11.350655903128153, 11.751261352169525, 12.140766902119072, 12.541372351160444, 12.92936427850656, 13.342583249243189, 13.747729566094854, 14.151362260343088, 14.562058526740666, 14.940464177598386, 15.321897073662967, 15.684661957618568, 16.028254288597378, 16.356710393541878, 16.67608476286579, 16.99848637739657, 17.337033299697275, 17.70433905146317, 18.078708375378405, 18.472754793138243, 18.869323915237135, 19.247729566094854, 19.594853683148337, 19.904137235116046, 20.183652875882945, 20.4313824419778, 20.633703329969727]\n",
            "[5, 6, 7, 8, 9, 10, 11, 12, 13, 14, 14, 15, 16, 17, 18, 19, 20, 21, 21, 21, 22, 23, 24, 25, 26, 26, 27, 28, 29, 29, 30, 30, 30, 31, 32, 33, 33, 34, 35, 36, 37, 37, 38, 38, 38, 39]\n"
          ]
        },
        {
          "output_type": "execute_result",
          "data": {
            "text/plain": [
              "<matplotlib.legend.Legend at 0x7fbbab8b3590>"
            ]
          },
          "metadata": {},
          "execution_count": 5
        },
        {
          "output_type": "display_data",
          "data": {
            "text/plain": [
              "<Figure size 1080x432 with 1 Axes>"
            ],
            "image/png": "[encoded data removed]"
          },
          "metadata": {
            "needs_background": "light"
          }
        }
      ]
    },
    {
      "cell_type": "code",
      "source": [
        "#test = df.head(50)\n",
        "\n",
        "col_names = ['pAbstract_multilevel', 'pAbstract_labelProp', 'pAbstract_leiden', \n",
        "             'pAbstract_fastG', 'pAbstract_infomap', 'tfidfAbsKeys', 'kmeansAbsKeys']\n",
        "label_names = ['multilevel', 'labelProp', 'leiden', 'fastG', 'infomap', 'tfidf', 'kmeans']\n",
        "comm_keywords = [list(df[name]) for name in col_names]\n",
        "sizes = [x+5 for x in range(46)]\n",
        "#sizes = [5, 10, 15, 20, 25, 30]\n",
        "# community abstracts --> 0:10 ?? \n",
        "# long content --> 0:30 ??\n",
        "\n",
        "size_abst_com = 10\n",
        "\n",
        "res_values = []\n",
        "for method in comm_keywords:\n",
        "  print(len(method))\n",
        "  container = [[] for _ in range(len(sizes))]\n",
        "  for abstract, keywords in zip(method, referenceKeywords):\n",
        "    abstract = abstract.split()[0:size_abst_com] #????????\n",
        "    keywords = keywords.split()\n",
        "    for index, group in enumerate(sizes):\n",
        "      inter = len(set(keywords[0:group])& set(abstract))\n",
        "      container[index].append(inter)\n",
        "  #print(len(container),container)\n",
        "  means = [np.mean(i) for i in container]\n",
        "  res_values.append(means)\n",
        "  print(means)\n",
        "  print()\n",
        "\n",
        "plt.figure(figsize=(15,6))\n",
        "plt.grid()\n",
        "plt.title('Average common keywords between reference keywords (complete content) and community methods')\n",
        "plt.xlabel('Top 5-50 keywords')\n",
        "plt.ylabel('Average found keywords')\n",
        "for values, name in zip(res_values, label_names):\n",
        "  plt.scatter(sizes, values, label=name)\n",
        "plt.legend()\n",
        "\n"
      ],
      "metadata": {
        "colab": {
          "base_uri": "https://localhost:8080/",
          "height": 817
        },
        "id": "pgP9F73DTnH-",
        "outputId": "1c26d0d3-8642-46e6-f2e7-a119c861a638"
      },
      "execution_count": null,
      "outputs": [
        {
          "output_type": "stream",
          "name": "stdout",
          "text": [
            "1982\n",
            "[0.6801210898082745, 0.7921291624621595, 0.9081735620585267, 1.024217961654894, 1.131180625630676, 1.2305751765893038, 1.3047426841574168, 1.380928355196771, 1.4556004036326942, 1.543390514631685, 1.6200807265388497, 1.6962663975782037, 1.789606458123108, 1.884460141271443, 1.9808274470232088, 2.0852674066599395, 2.18920282542886, 2.2891019172552975, 2.368314833501514, 2.452068617558022, 2.5443995963673056, 2.6251261352169526, 2.7043390514631684, 2.789606458123108, 2.872351160443996, 2.9566094853683147, 3.0383451059535824, 3.143289606458123, 3.22401614530777, 3.3062563067608477, 3.393037336024218, 3.4752774974772955, 3.5509586276488396, 3.6135216952573157, 3.674066599394551, 3.7522704339051463, 3.8350151362260343, 3.918768920282543, 4.005549949545913, 4.089808274470232, 4.162462159434914, 4.220484359233098, 4.291120080726539, 4.359233097880928, 4.407669021190716, 4.452068617558022]\n",
            "\n",
            "1982\n",
            "[0.6796165489404642, 0.777497477295661, 0.8652875882946519, 0.955095862764884, 1.0358224016145308, 1.1084762865792128, 1.1685166498486377, 1.2487386478304743, 1.3133198789101916, 1.389505549949546, 1.4581231079717456, 1.5252270433905146, 1.5958627648839556, 1.6851664984863775, 1.7663975782038346, 1.8678102926337032, 1.9606458123107973, 2.0494450050454085, 2.1200807265388497, 2.198789101917255, 2.272452068617558, 2.3435923309788094, 2.4248234106962663, 2.4974772956609486, 2.575681130171544, 2.6564076690211906, 2.7371342078708376, 2.8289606458123107, 2.9041372351160444, 2.9803229061553984, 3.0489404641775986, 3.124117053481332, 3.199798183652876, 3.2588294651866803, 3.326437941473259, 3.393037336024218, 3.466700302724521, 3.5474268415741674, 3.62108980827447, 3.7098890010090817, 3.7860746720484357, 3.851664984863774, 3.918768920282543, 3.974772956609485, 4.025227043390514, 4.0686175580222]\n",
            "\n",
            "1982\n",
            "[0.813824419778002, 0.9399596367305751, 1.044904137235116, 1.1417759838546921, 1.2401614530776992, 1.3254288597376387, 1.3935418768920282, 1.4641775983854692, 1.5348133198789102, 1.6074672048435923, 1.6760847628657922, 1.74117053481332, 1.8193743693239153, 1.8940464177598386, 1.9702320887991926, 2.065085771947528, 2.170534813319879, 2.2542885973763873, 2.3213925327951563, 2.3920282542885976, 2.4626639757820383, 2.5317860746720484, 2.6271442986881937, 2.7073662966700303, 2.7800201816347125, 2.860746720484359, 2.9253279515640767, 3.011604439959637, 3.080726538849647, 3.1564076690211906, 3.2199798183652875, 3.2870837537840565, 3.3506559031281533, 3.4091826437941473, 3.466700302724521, 3.524217961654894, 3.598385469223007, 3.681130171543895, 3.760343087790111, 3.8350151362260343, 3.912209889001009, 3.9702320887991926, 4.037336024217962, 4.092835519677094, 4.1412714429868815, 4.180121089808274]\n",
            "\n",
            "1982\n",
            "[0.7885973763874874, 0.9187689202825429, 1.0221997981836528, 1.1175580221997983, 1.213420787083754, 1.299697275479314, 1.3779011099899092, 1.4601412714429869, 1.5297679112008074, 1.6079717457114027, 1.6786074672048437, 1.7462159434914228, 1.8360242179616548, 1.9112008072653885, 2.0005045408678104, 2.1019172552976793, 2.1972754793138245, 2.2840565085771947, 2.354692230070636, 2.4384460141271442, 2.5232088799192733, 2.6039354187689203, 2.679616548940464, 2.7633703329969728, 2.8577194752774973, 2.942482341069627, 3.0368314833501513, 3.1372351160443994, 3.2199798183652875, 3.308779011099899, 3.395055499495459, 3.4838546922300706, 3.5610494450050454, 3.636226034308779, 3.713420787083754, 3.796670030272452, 3.8854692230070635, 3.9651866801210898, 4.061553985872855, 4.151362260343088, 4.233602421796165, 4.313319878910192, 4.38042381432896, 4.451564076690212, 4.5136226034308775, 4.557013118062563]\n",
            "\n",
            "1982\n",
            "[0.5650857719475277, 0.6876892028254289, 0.805247225025227, 0.9157416750756812, 1.0252270433905146, 1.1145307769929365, 1.1856710393541876, 1.2628657921291624, 1.3269424823410696, 1.3930373360242179, 1.458627648839556, 1.5307769929364279, 1.601917255297679, 1.6806256306760847, 1.756811301715439, 1.8375378405650857, 1.9238143289606457, 2.0010090817356208, 2.0797174571140262, 2.151866801210898, 2.2245206861755804, 2.289606458123108, 2.36226034308779, 2.4177598385469223, 2.477295660948537, 2.5368314833501513, 2.5973763874873863, 2.661957618567104, 2.7255297679112007, 2.7906155398587287, 2.843087790110999, 2.9031281533804236, 2.9566094853683147, 3.006559031281534, 3.05146316851665, 3.110494450050454, 3.1659939455095865, 3.231079717457114, 3.2880928355196772, 3.354692230070636, 3.4076690211907166, 3.464177598385469, 3.508577194752775, 3.549949545913219, 3.5908173562058527, 3.6266397578203833]\n",
            "\n",
            "1982\n",
            "[1.0262361251261352, 1.2305751765893038, 1.4212916246215943, 1.591321897073663, 1.7633703329969728, 1.8910191725529768, 2.0090817356205855, 2.125630676084763, 2.2255297679112007, 2.323915237134208, 2.4439959636730575, 2.565085771947528, 2.692734611503532, 2.831483350151362, 2.971745711402624, 3.117053481331988, 3.2457114026236127, 3.3662966700302723, 3.487386478304743, 3.5802219979818366, 3.6750756811301715, 3.7679112008072653, 3.8582240161453076, 3.934914228052472, 4.032290615539859, 4.128153380423814, 4.209384460141272, 4.294651866801211, 4.367305751765893, 4.438446014127145, 4.505549949545913, 4.567608476286579, 4.622603430877901, 4.691725529767911, 4.7558022199798184, 4.819374369323915, 4.891523713420787, 4.96619576185671, 5.044399596367306, 5.123612512613522, 5.191220988900101, 5.246720484359233, 5.288092835519677, 5.321897073662966, 5.351160443995964, 5.37840565085772]\n",
            "\n",
            "1982\n",
            "[1.7038345105953583, 1.984359233097881, 2.228052472250252, 2.422805247225025, 2.608476286579213, 2.7608476286579213, 2.8819374369323913, 3.007063572149344, 3.132694248234107, 3.251765893037336, 3.4041372351160444, 3.562563067608476, 3.7366296670030272, 3.9112008072653883, 4.089808274470232, 4.265893037336024, 4.43087790110999, 4.592835519677094, 4.74117053481332, 4.869828456104944, 5.007063572149344, 5.145307769929365, 5.286074672048436, 5.409182643794147, 5.554490413723512, 5.689202825428859, 5.818869828456105, 5.947023208879919, 6.060040363269425, 6.166498486377397, 6.25882946518668, 6.353178607467205, 6.4369323915237135, 6.520686175580222, 6.6099899091826435, 6.693743693239153, 6.788597376387488, 6.881432896064581, 6.974772956609486, 7.06912209889001, 7.160948536831484, 7.225529767911201, 7.284056508577195, 7.338546922300706, 7.387487386478305, 7.423309788092835]\n",
            "\n"
          ]
        },
        {
          "output_type": "execute_result",
          "data": {
            "text/plain": [
              "<matplotlib.legend.Legend at 0x7fbbab8a13d0>"
            ]
          },
          "metadata": {},
          "execution_count": 6
        },
        {
          "output_type": "display_data",
          "data": {
            "text/plain": [
              "<Figure size 1080x432 with 1 Axes>"
            ],
            "image/png": "[encoded data removed]"
          },
          "metadata": {
            "needs_background": "light"
          }
        }
      ]
    },
    {
      "cell_type": "markdown",
      "source": [
        "**Correlation Analysis**"
      ],
      "metadata": {
        "id": "LSfhzJElwx9t"
      }
    },
    {
      "cell_type": "markdown",
      "source": [
        "\n",
        "A ideia deste experimento foi ver se os rankings que são obtidos pelos métodos das comunidades (para textos pequenos) tem alguma correlação com os rankings que são obtidos pelos métodos para textos completos. A metodologia proposta foi a seguinte: depois de detectar o ranking de palavras chave do texto completo, eu fiz um match com as palavras do abstract para obter um rank das palavras que estão no abstract. Da mesma forma, eu gerei o ranking quando usamos o método das comunidades para calcular palavras chave. Então, eu comparo os dois rankings obtidos usando o método de correlação de Spearman. Resumindo, precisamos de dois rankings:\n",
        "*   Ranqueamento das palavras do resumo baseado no método das comunidades\n",
        "*   Ranqueamento das palavras do resumo baseado nos métodos de extração de keywords para os textos completos. \n",
        "\n"
      ],
      "metadata": {
        "id": "LVjv5K5hNpLi"
      }
    },
    {
      "cell_type": "code",
      "source": [
        "from scipy import stats\n",
        "def get_dict_from_text(content):\n",
        "  content = content.split()\n",
        "  result = dict()\n",
        "  value = 100\n",
        "  for word in content:\n",
        "    result[word] = value\n",
        "    value-=1\n",
        "  return result \n",
        "\n",
        "def sort_words_long(content, dict_values):\n",
        "  content = content.split()\n",
        "  content = content[0:30]\n",
        "  sizes = [5, 10, 15, 20, 25, 30]\n",
        "  result = []\n",
        "  for top in sizes:\n",
        "    auxi = dict()\n",
        "    for word in content[0:top]:\n",
        "      if word in dict_values:\n",
        "        auxi[word] = dict_values[word]\n",
        "      else:\n",
        "        auxi[word] = 0\n",
        "    auxi = dict(sorted(auxi.items(), key=lambda item: item[1],reverse=True))\n",
        "    long_keys = list(auxi.keys())\n",
        "    result.append(long_keys)\n",
        "  return result\n",
        "\n",
        "\n",
        "def get_correlations(reference,values):\n",
        "  reference = reference.split()\n",
        "  sizes = [5, 10, 15, 20, 25, 30]\n",
        "  correlations = []\n",
        "  for size, val in zip(sizes,values):\n",
        "    text = reference[0:size]\n",
        "    dict_text = {word:index+1 for index, word in enumerate(text)}\n",
        "    ranking_ref = [index+1 for index in range(len(text))]\n",
        "    ranking_long = [dict_text[x] for x in val]\n",
        "    corr = stats.spearmanr(ranking_ref, ranking_long)[0]\n",
        "    correlations.append(corr)\n",
        "  return correlations\n",
        "  \n",
        "def get_column_correlations(l1, l2):\n",
        "  all_correlations = []\n",
        "  for abst, vals in zip(l1,l2):\n",
        "    val = get_correlations(abst,vals)\n",
        "    all_correlations.append(val)\n",
        "  all_correlations = np.array(all_correlations)\n",
        "  avg_corrs = np.mean(all_correlations, axis=0)\n",
        "  avg_corrs = [round(i,4) for i in avg_corrs]\n",
        "  return avg_corrs\n",
        "\n",
        "\n",
        "df['keyDict'] = df['refKeywords100'].apply(get_dict_from_text)\n",
        "\n",
        "df.info()\n",
        "\n",
        "\n",
        "df['longMultilevel'] = df.apply(lambda x: sort_words_long(x['pAbstract_multilevel'], x['keyDict']), axis=1)\n",
        "df['longLabelProp'] = df.apply(lambda x: sort_words_long(x['pAbstract_labelProp'], x['keyDict']), axis=1)\n",
        "df['longLeiden'] = df.apply(lambda x: sort_words_long(x['pAbstract_leiden'], x['keyDict']), axis=1)\n",
        "df['longFastG'] = df.apply(lambda x: sort_words_long(x['pAbstract_fastG'], x['keyDict']), axis=1)\n",
        "df['longInfomap'] = df.apply(lambda x: sort_words_long(x['pAbstract_infomap'], x['keyDict']), axis=1)\n",
        "\n",
        "print('Calculating correlations')\n",
        "m1 = get_column_correlations(df['pAbstract_multilevel'], df['longMultilevel'])\n",
        "m2 = get_column_correlations(df['pAbstract_labelProp'], df['longLabelProp'])\n",
        "m3 = get_column_correlations(df['pAbstract_leiden'], df['longLeiden'])\n",
        "m4 = get_column_correlations(df['pAbstract_fastG'], df['longFastG'])\n",
        "m5 = get_column_correlations(df['pAbstract_infomap'], df['longInfomap'])\n",
        "\n",
        "all_results = [m1, m2, m3, m4, m5]\n",
        "\n",
        "names = ['multilevel', 'labelProp', 'leiden', 'fastG', 'infomap']\n",
        "sizes = [5, 10, 15, 20, 25, 30]\n",
        "\n",
        "res_dict = {'method':names}\n",
        "\n",
        "all_results = np.array(all_results)\n",
        "for i in range(6):\n",
        "  res_dict[str(sizes[i]) + ' topK'] = all_results[:,i]\n",
        "\n",
        "print()\n",
        "df_res = pd.DataFrame.from_dict(res_dict)\n",
        "print(df_res)\n"
      ],
      "metadata": {
        "colab": {
          "base_uri": "https://localhost:8080/"
        },
        "id": "q1aBA4ZU2UNY",
        "outputId": "55c1a504-1ae2-48a4-b3ab-12ed45fe586a"
      },
      "execution_count": null,
      "outputs": [
        {
          "output_type": "stream",
          "name": "stdout",
          "text": [
            "<class 'pandas.core.frame.DataFrame'>\n",
            "RangeIndex: 1982 entries, 0 to 1981\n",
            "Data columns (total 19 columns):\n",
            " #   Column                Non-Null Count  Dtype  \n",
            "---  ------                --------------  -----  \n",
            " 0   wos_id                1982 non-null   object \n",
            " 1   title                 1982 non-null   object \n",
            " 2   abstract              1982 non-null   object \n",
            " 3   year                  1982 non-null   float64\n",
            " 4   pAbstract             1982 non-null   object \n",
            " 5   pAbstract_multilevel  1982 non-null   object \n",
            " 6   pAbstract_labelProp   1982 non-null   object \n",
            " 7   pAbstract_leiden      1982 non-null   object \n",
            " 8   pAbstract_fastG       1982 non-null   object \n",
            " 9   pAbstract_infomap     1982 non-null   object \n",
            " 10  content               1982 non-null   object \n",
            " 11  refKeywords           1982 non-null   object \n",
            " 12  refKeywords100        1982 non-null   object \n",
            " 13  keyDict               1982 non-null   object \n",
            " 14  longMultilevel        1982 non-null   object \n",
            " 15  longLabelProp         1982 non-null   object \n",
            " 16  longLeiden            1982 non-null   object \n",
            " 17  longFastG             1982 non-null   object \n",
            " 18  longInfomap           1982 non-null   object \n",
            "dtypes: float64(1), object(18)\n",
            "memory usage: 294.3+ KB\n",
            "Calculating correlations\n",
            "\n",
            "       method  5 topK  10 topK  15 topK  20 topK  25 topK  30 topK\n",
            "0  multilevel  0.2148   0.2186   0.2263   0.2244   0.2273   0.2374\n",
            "1   labelProp  0.1263   0.1978   0.2008   0.2070   0.2164   0.2324\n",
            "2      leiden  0.2691   0.1950   0.1734   0.1889   0.2155   0.2325\n",
            "3       fastG  0.1311   0.1857   0.2168   0.2180   0.2356   0.2480\n",
            "4     infomap  0.2578   0.2178   0.1715   0.1358   0.1171   0.1170\n"
          ]
        }
      ]
    },
    {
      "cell_type": "markdown",
      "source": [
        "Para os testes a seguir, eu comparo a correlacao de Spearman entre cada metodo de detecao de comunidades. Para fazer isso, primeiro eu calculei o ranking obtido por cada metodo (de comunidades) para cada abstract. Eu considerei todas as palavras dos abstracts para a geracao dos rankings. Finalmente comparei cada metodo usando a correlacao de Spearman dos rankings."
      ],
      "metadata": {
        "id": "LFEVwPR7Pblm"
      }
    },
    {
      "cell_type": "code",
      "source": [
        "import seaborn as sns\n",
        "\n",
        "def get_words_ids(abstract):\n",
        "  content = abstract.split()\n",
        "  result = {word:id+1 for id,word in enumerate(content)} \n",
        "  return result\n",
        "\n",
        "def get_rankings(df, column):\n",
        "  rankings = []\n",
        "  for index, row in df.iterrows():\n",
        "    content = row[column]\n",
        "    content = content.split()\n",
        "    dict_ids = row['word_ids']\n",
        "    ranking = [dict_ids[word] for word in content] \n",
        "    rankings.append(ranking)\n",
        "  return rankings\n",
        "\n",
        "def get_correlations(values):\n",
        "  names = ['fastG', 'infomap', 'labelProp', 'leiden', 'multilevel']\n",
        "  result = {names[0]:values[0], names[1]:values[1], names[2]:values[2], names[3]:values[3], names[4]:values[4]}\n",
        "  result = pd.DataFrame.from_dict(result)\n",
        "  cormat = result.corr(method='spearman')\n",
        "  return cormat\n",
        "\n",
        "\n",
        "df['word_ids'] = df['pAbstract'].apply(get_words_ids)\n",
        "df.info()\n",
        "\n",
        "names = ['pAbstract_fastG', 'pAbstract_infomap', 'pAbstract_labelProp', 'pAbstract_leiden', 'pAbstract_multilevel']\n",
        "rankings = []\n",
        "\n",
        "rank_1 = get_rankings(df, names[0])\n",
        "rank_2 = get_rankings(df, names[1])\n",
        "rank_3 = get_rankings(df, names[2])\n",
        "rank_4 = get_rankings(df, names[3])\n",
        "rank_5 = get_rankings(df, names[4])\n",
        "\n",
        "rankings = np.array([rank_1, rank_2, rank_3, rank_4, rank_5], dtype=object)\n",
        "print(rankings.shape)\n",
        "\n",
        "dfs = []\n",
        "for index in range(rankings.shape[1]):\n",
        "  abstracts = rankings[:,index] \n",
        "  correlations = get_correlations(abstracts)\n",
        "  dfs.append(correlations) \n",
        "\n",
        "df_res = pd.concat(dfs)\n",
        "df_means = df_res.groupby(level=0).mean()\n",
        "print(df_means)\n",
        "sns.heatmap(df_means, cmap='Greens');\n"
      ],
      "metadata": {
        "colab": {
          "base_uri": "https://localhost:8080/",
          "height": 755
        },
        "id": "iC3nYNQ8hfwY",
        "outputId": "f8122071-eb1c-47ce-81d7-509221cad64b"
      },
      "execution_count": null,
      "outputs": [
        {
          "output_type": "stream",
          "name": "stdout",
          "text": [
            "<class 'pandas.core.frame.DataFrame'>\n",
            "RangeIndex: 1982 entries, 0 to 1981\n",
            "Data columns (total 14 columns):\n",
            " #   Column                Non-Null Count  Dtype  \n",
            "---  ------                --------------  -----  \n",
            " 0   wos_id                1982 non-null   object \n",
            " 1   title                 1982 non-null   object \n",
            " 2   abstract              1982 non-null   object \n",
            " 3   year                  1982 non-null   float64\n",
            " 4   pAbstract             1982 non-null   object \n",
            " 5   pAbstract_multilevel  1982 non-null   object \n",
            " 6   pAbstract_labelProp   1982 non-null   object \n",
            " 7   pAbstract_leiden      1982 non-null   object \n",
            " 8   pAbstract_fastG       1982 non-null   object \n",
            " 9   pAbstract_infomap     1982 non-null   object \n",
            " 10  content               1982 non-null   object \n",
            " 11  refKeywords           1982 non-null   object \n",
            " 12  refKeywords100        1982 non-null   object \n",
            " 13  word_ids              1982 non-null   object \n",
            "dtypes: float64(1), object(13)\n",
            "memory usage: 216.9+ KB\n",
            "(5, 1982)\n",
            "               fastG   infomap  labelProp    leiden  multilevel\n",
            "fastG       1.000000  0.024496   0.059351  0.061413    0.047415\n",
            "infomap     0.024496  1.000000   0.023025  0.018604    0.015495\n",
            "labelProp   0.059351  0.023025   1.000000  0.049402    0.056224\n",
            "leiden      0.061413  0.018604   0.049402  1.000000    0.102714\n",
            "multilevel  0.047415  0.015495   0.056224  0.102714    1.000000\n"
          ]
        },
        {
          "output_type": "display_data",
          "data": {
            "text/plain": [
              "<Figure size 432x288 with 2 Axes>"
            ],
            "image/png": "[encoded data removed]"
          },
          "metadata": {
            "needs_background": "light"
          }
        }
      ]
    },
    {
      "cell_type": "markdown",
      "source": [
        "Para os testes a seguir, eu comparo a correlacao de Spearman entre cada medida de centralidade de redes obtida das redes de co-ocorrencia dos abstracts . Para fazer isso, primeiro eu calculei o ranking obtido por cada medida de rede para cada abstract. Eu considerei todas as palavras dos abstracts para a geracao dos rankings. Finalmente comparei cada metodo usando a correlacao de Spearman dos rankings."
      ],
      "metadata": {
        "id": "rZMT5LCZTcZi"
      }
    },
    {
      "cell_type": "code",
      "source": [
        "def get_correlations2(values):\n",
        "  names = ['btw', 'clos', 'dgr', 'eig', 'pr']\n",
        "  result = {names[0]:values[0], names[1]:values[1], names[2]:values[2], names[3]:values[3], names[4]:values[4]}\n",
        "  result = pd.DataFrame.from_dict(result)\n",
        "  cormat = result.corr(method='spearman')\n",
        "  return cormat\n",
        "\n",
        "names = ['pAbs$_Btw', 'pAbs_Clos', 'pAbs_Dgr', 'pAbs_Eig', 'pAbs_Pr']\n",
        "rankings = []\n",
        "\n",
        "df_metrics['word_ids'] = df_metrics['pAbstract'].apply(get_words_ids)\n",
        "\n",
        "rank_1 = get_rankings(df_metrics, names[0])\n",
        "rank_2 = get_rankings(df_metrics, names[1])\n",
        "rank_3 = get_rankings(df_metrics, names[2])\n",
        "rank_4 = get_rankings(df_metrics, names[3])\n",
        "rank_5 = get_rankings(df_metrics, names[4])\n",
        "\n",
        "rankings = np.array([rank_1, rank_2, rank_3, rank_4, rank_5], dtype=object)\n",
        "print(rankings.shape)\n",
        "\n",
        "dfs = []\n",
        "for index in range(rankings.shape[1]):\n",
        "  abstracts = rankings[:,index] \n",
        "  correlations = get_correlations2(abstracts)\n",
        "  dfs.append(correlations) \n",
        "\n",
        "df_res = pd.concat(dfs)\n",
        "df_means = df_res.groupby(level=0).mean()\n",
        "print(df_means)  \n",
        "sns.heatmap(df_means, cmap='Greens');"
      ],
      "metadata": {
        "colab": {
          "base_uri": "https://localhost:8080/",
          "height": 391
        },
        "id": "0EzImlTIlBgh",
        "outputId": "5ab1bb60-8be6-49b8-c6cc-596c4caa2865"
      },
      "execution_count": null,
      "outputs": [
        {
          "output_type": "stream",
          "name": "stdout",
          "text": [
            "(5, 1982)\n",
            "           btw      clos       dgr       eig        pr\n",
            "btw   1.000000  0.061820  0.098578  0.027787  0.143735\n",
            "clos  0.061820  1.000000  0.073617  0.187987  0.039664\n",
            "dgr   0.098578  0.073617  1.000000  0.067967  0.144541\n",
            "eig   0.027787  0.187987  0.067967  1.000000  0.022165\n",
            "pr    0.143735  0.039664  0.144541  0.022165  1.000000\n"
          ]
        },
        {
          "output_type": "display_data",
          "data": {
            "text/plain": [
              "<Figure size 432x288 with 2 Axes>"
            ],
            "image/png": "[encoded data removed]"
          },
          "metadata": {
            "needs_background": "light"
          }
        }
      ]
    }
  ]
}